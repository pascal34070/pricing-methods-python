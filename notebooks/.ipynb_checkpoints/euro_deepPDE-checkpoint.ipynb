{
 "cells": [
  {
   "cell_type": "markdown",
   "id": "a39356ac",
   "metadata": {},
   "source": [
    "## European option pricing by deep PDE"
   ]
  },
  {
   "cell_type": "code",
   "execution_count": 1,
   "id": "cacaaf8d",
   "metadata": {},
   "outputs": [
    {
     "name": "stdout",
     "output_type": "stream",
     "text": [
      "BS analytical price:  6.040088129724239\n"
     ]
    }
   ],
   "source": [
    "import matplotlib.pyplot as plt\n",
    "import numpy as np\n",
    "from datetime import datetime\n",
    "\n",
    "from pricing_python.diffusion import BlackScholesProcess\n",
    "from pricing_python.european import eur_bs_analytical_price \n",
    "\n",
    "sigma = 0.2\n",
    "riskfree = 0.05\n",
    "maturity = 1.\n",
    "S0 = 100.\n",
    "K = 110.\n",
    "model = BlackScholesProcess(sigma=sigma)\n",
    "\n",
    "bs_price = eur_bs_analytical_price(S0, K, riskfree, sigma, maturity, call=True)\n",
    "print('BS analytical price: ', bs_price)"
   ]
  },
  {
   "cell_type": "markdown",
   "id": "bf4cccb0",
   "metadata": {},
   "source": [
    "### Deep Galerkin"
   ]
  },
  {
   "cell_type": "code",
   "execution_count": 12,
   "id": "e1cff2f7",
   "metadata": {},
   "outputs": [],
   "source": [
    "from pricing_python.dgm.european import EurDGM\n",
    "from pricing_python.dgm.dgm import DGMNet\n",
    "\n",
    "dgm_net = DGMNet(hidden_units=50, n_layers=3, input_dim=1,\n",
    "                 lstm_activation_1=\"tanh\", lstm_activation_2=\"tanh\",\n",
    "                 last_activation=\"linear\")\n",
    "\n",
    "dgm_pricer = EurDGM(model, K,\n",
    "                    maturity=maturity, riskfree=riskfree, dgm_net=dgm_net,\n",
    "                    S_max=2*K, n_sim_interior=1000, n_sim_terminal=100)\n"
   ]
  },
  {
   "cell_type": "code",
   "execution_count": 13,
   "id": "50963d54",
   "metadata": {
    "scrolled": false
   },
   "outputs": [
    {
     "name": "stdout",
     "output_type": "stream",
     "text": [
      "iteration 000: Loss: 7269.766 L1: 0.201 L2: 0.000 L3: 7269.565\n",
      "iteration 001: Loss: 8573.154 L1: 0.819 L2: 0.000 L3: 8572.336\n",
      "iteration 002: Loss: 11060.077 L1: 2.203 L2: 0.000 L3: 11057.875\n",
      "iteration 003: Loss: 7516.207 L1: 3.864 L2: 0.000 L3: 7512.344\n",
      "iteration 004: Loss: 8244.352 L1: 4.284 L2: 0.000 L3: 8240.069\n",
      "iteration 005: Loss: 5011.061 L1: 5.213 L2: 0.000 L3: 5005.847\n",
      "iteration 006: Loss: 6345.688 L1: 6.966 L2: 0.000 L3: 6338.723\n",
      "iteration 007: Loss: 6063.716 L1: 7.150 L2: 0.000 L3: 6056.566\n",
      "iteration 008: Loss: 4698.912 L1: 9.365 L2: 0.000 L3: 4689.547\n",
      "iteration 009: Loss: 6001.372 L1: 7.554 L2: 0.000 L3: 5993.818\n",
      "iteration 010: Loss: 4905.656 L1: 8.118 L2: 0.000 L3: 4897.538\n",
      "iteration 011: Loss: 5274.916 L1: 9.291 L2: 0.000 L3: 5265.625\n",
      "iteration 012: Loss: 4241.551 L1: 9.913 L2: 0.000 L3: 4231.639\n",
      "iteration 013: Loss: 3344.571 L1: 8.906 L2: 0.000 L3: 3335.665\n",
      "iteration 014: Loss: 4481.933 L1: 9.092 L2: 0.000 L3: 4472.841\n",
      "iteration 015: Loss: 4560.115 L1: 8.480 L2: 0.000 L3: 4551.634\n",
      "iteration 016: Loss: 4692.950 L1: 8.806 L2: 0.000 L3: 4684.144\n",
      "iteration 017: Loss: 3180.027 L1: 7.847 L2: 0.000 L3: 3172.179\n",
      "iteration 018: Loss: 2750.508 L1: 8.452 L2: 0.000 L3: 2742.056\n",
      "iteration 019: Loss: 2625.178 L1: 8.389 L2: 0.000 L3: 2616.789\n",
      "iteration 020: Loss: 2964.227 L1: 8.253 L2: 0.000 L3: 2955.974\n",
      "iteration 021: Loss: 2819.482 L1: 7.922 L2: 0.000 L3: 2811.561\n",
      "iteration 022: Loss: 1609.326 L1: 7.170 L2: 0.000 L3: 1602.156\n",
      "iteration 023: Loss: 3152.246 L1: 5.994 L2: 0.000 L3: 3146.251\n",
      "iteration 024: Loss: 2208.407 L1: 5.019 L2: 0.000 L3: 2203.387\n",
      "iteration 025: Loss: 1855.633 L1: 5.262 L2: 0.000 L3: 1850.371\n",
      "iteration 026: Loss: 1460.374 L1: 5.417 L2: 0.000 L3: 1454.957\n",
      "iteration 027: Loss: 1989.312 L1: 9.206 L2: 0.000 L3: 1980.106\n",
      "iteration 028: Loss: 1066.880 L1: 5.410 L2: 0.000 L3: 1061.470\n",
      "iteration 029: Loss: 1280.469 L1: 4.658 L2: 0.000 L3: 1275.811\n",
      "iteration 030: Loss: 1556.612 L1: 4.578 L2: 0.000 L3: 1552.034\n",
      "iteration 031: Loss: 1306.524 L1: 5.118 L2: 0.000 L3: 1301.406\n",
      "iteration 032: Loss: 1471.233 L1: 4.709 L2: 0.000 L3: 1466.524\n",
      "iteration 033: Loss: 964.221 L1: 3.824 L2: 0.000 L3: 960.397\n",
      "iteration 034: Loss: 834.146 L1: 3.475 L2: 0.000 L3: 830.672\n",
      "iteration 035: Loss: 1032.544 L1: 5.335 L2: 0.000 L3: 1027.209\n",
      "iteration 036: Loss: 837.169 L1: 3.978 L2: 0.000 L3: 833.191\n",
      "iteration 037: Loss: 788.534 L1: 4.316 L2: 0.000 L3: 784.219\n",
      "iteration 038: Loss: 789.244 L1: 3.966 L2: 0.000 L3: 785.278\n",
      "iteration 039: Loss: 1004.066 L1: 4.202 L2: 0.000 L3: 999.864\n",
      "iteration 040: Loss: 684.751 L1: 3.460 L2: 0.000 L3: 681.290\n",
      "iteration 041: Loss: 777.472 L1: 4.081 L2: 0.000 L3: 773.391\n",
      "iteration 042: Loss: 516.948 L1: 3.236 L2: 0.000 L3: 513.711\n",
      "iteration 043: Loss: 549.293 L1: 4.517 L2: 0.000 L3: 544.776\n",
      "iteration 044: Loss: 663.117 L1: 4.121 L2: 0.000 L3: 658.996\n",
      "iteration 045: Loss: 721.432 L1: 3.650 L2: 0.000 L3: 717.782\n",
      "iteration 046: Loss: 486.749 L1: 3.297 L2: 0.000 L3: 483.451\n",
      "iteration 047: Loss: 396.477 L1: 2.698 L2: 0.000 L3: 393.778\n",
      "iteration 048: Loss: 704.346 L1: 3.428 L2: 0.000 L3: 700.918\n",
      "iteration 049: Loss: 372.579 L1: 2.867 L2: 0.000 L3: 369.712\n",
      "iteration 050: Loss: 630.205 L1: 2.959 L2: 0.000 L3: 627.246\n",
      "iteration 051: Loss: 460.591 L1: 5.223 L2: 0.000 L3: 455.368\n",
      "iteration 052: Loss: 337.292 L1: 11.945 L2: 0.000 L3: 325.348\n",
      "iteration 053: Loss: 476.966 L1: 4.330 L2: 0.000 L3: 472.637\n",
      "iteration 054: Loss: 340.341 L1: 3.034 L2: 0.000 L3: 337.307\n",
      "iteration 055: Loss: 443.055 L1: 2.594 L2: 0.000 L3: 440.461\n",
      "iteration 056: Loss: 458.702 L1: 2.669 L2: 0.000 L3: 456.033\n",
      "iteration 057: Loss: 193.695 L1: 2.226 L2: 0.000 L3: 191.469\n",
      "iteration 058: Loss: 259.319 L1: 2.553 L2: 0.000 L3: 256.766\n",
      "iteration 059: Loss: 263.697 L1: 2.354 L2: 0.000 L3: 261.343\n",
      "iteration 060: Loss: 307.785 L1: 2.553 L2: 0.000 L3: 305.232\n",
      "iteration 061: Loss: 357.192 L1: 2.471 L2: 0.000 L3: 354.721\n",
      "iteration 062: Loss: 370.719 L1: 3.519 L2: 0.000 L3: 367.200\n",
      "iteration 063: Loss: 255.159 L1: 2.635 L2: 0.000 L3: 252.524\n",
      "iteration 064: Loss: 334.646 L1: 2.571 L2: 0.000 L3: 332.076\n",
      "iteration 065: Loss: 245.245 L1: 2.173 L2: 0.000 L3: 243.071\n",
      "iteration 066: Loss: 153.538 L1: 4.823 L2: 0.000 L3: 148.715\n",
      "iteration 067: Loss: 196.785 L1: 3.988 L2: 0.000 L3: 192.797\n",
      "iteration 068: Loss: 198.708 L1: 2.290 L2: 0.000 L3: 196.418\n",
      "iteration 069: Loss: 123.072 L1: 1.548 L2: 0.000 L3: 121.524\n",
      "iteration 070: Loss: 205.940 L1: 2.035 L2: 0.000 L3: 203.905\n",
      "iteration 071: Loss: 116.893 L1: 1.817 L2: 0.000 L3: 115.076\n",
      "iteration 072: Loss: 198.978 L1: 2.013 L2: 0.000 L3: 196.965\n",
      "iteration 073: Loss: 107.445 L1: 2.288 L2: 0.000 L3: 105.157\n",
      "iteration 074: Loss: 99.984 L1: 1.573 L2: 0.000 L3: 98.412\n",
      "iteration 075: Loss: 128.218 L1: 1.885 L2: 0.000 L3: 126.333\n",
      "iteration 076: Loss: 179.044 L1: 1.554 L2: 0.000 L3: 177.490\n",
      "iteration 077: Loss: 103.320 L1: 5.709 L2: 0.000 L3: 97.611\n",
      "iteration 078: Loss: 66.574 L1: 2.300 L2: 0.000 L3: 64.274\n",
      "iteration 079: Loss: 59.742 L1: 1.291 L2: 0.000 L3: 58.451\n",
      "iteration 080: Loss: 145.040 L1: 2.419 L2: 0.000 L3: 142.622\n",
      "iteration 081: Loss: 67.817 L1: 1.977 L2: 0.000 L3: 65.840\n",
      "iteration 082: Loss: 65.832 L1: 1.412 L2: 0.000 L3: 64.419\n",
      "iteration 083: Loss: 222.327 L1: 21.685 L2: 0.000 L3: 200.642\n",
      "iteration 084: Loss: 112.457 L1: 10.459 L2: 0.000 L3: 101.998\n",
      "iteration 085: Loss: 169.291 L1: 5.904 L2: 0.000 L3: 163.387\n",
      "iteration 086: Loss: 146.951 L1: 8.061 L2: 0.000 L3: 138.891\n",
      "iteration 087: Loss: 93.109 L1: 4.477 L2: 0.000 L3: 88.632\n",
      "iteration 088: Loss: 94.059 L1: 3.226 L2: 0.000 L3: 90.833\n",
      "iteration 089: Loss: 55.680 L1: 2.846 L2: 0.000 L3: 52.834\n",
      "iteration 090: Loss: 60.051 L1: 2.615 L2: 0.000 L3: 57.436\n",
      "iteration 091: Loss: 85.818 L1: 2.964 L2: 0.000 L3: 82.854\n",
      "iteration 092: Loss: 55.794 L1: 2.696 L2: 0.000 L3: 53.098\n",
      "iteration 093: Loss: 39.193 L1: 2.992 L2: 0.000 L3: 36.201\n",
      "iteration 094: Loss: 52.647 L1: 2.402 L2: 0.000 L3: 50.245\n",
      "iteration 095: Loss: 56.726 L1: 2.433 L2: 0.000 L3: 54.293\n",
      "iteration 096: Loss: 15.474 L1: 2.019 L2: 0.000 L3: 13.455\n",
      "iteration 097: Loss: 37.343 L1: 1.504 L2: 0.000 L3: 35.839\n",
      "iteration 098: Loss: 19.111 L1: 1.334 L2: 0.000 L3: 17.777\n",
      "iteration 099: Loss: 42.832 L1: 1.650 L2: 0.000 L3: 41.183\n"
     ]
    }
   ],
   "source": [
    "dgm_pricer.solve(sampling_iter=100, steps_per_sample=20, learning_rate=0.001)"
   ]
  },
  {
   "cell_type": "code",
   "execution_count": 19,
   "id": "7f9c356e",
   "metadata": {},
   "outputs": [
    {
     "data": {
      "text/plain": [
       "array([[6.19309]], dtype=float32)"
      ]
     },
     "execution_count": 19,
     "metadata": {},
     "output_type": "execute_result"
    }
   ],
   "source": [
    "# evaluate the model at the initial values\n",
    "S_val = np.array([S0]).reshape(1,-1)\n",
    "t_val = np.array([[dgm_pricer.t_min]])\n",
    "dgm_price = dgm_pricer.eval(S_val, t_val).numpy()\n",
    "dgm_price"
   ]
  },
  {
   "cell_type": "markdown",
   "id": "55780c31",
   "metadata": {},
   "source": [
    "### Deep Galerkin with boundary conditions"
   ]
  },
  {
   "cell_type": "code",
   "execution_count": 15,
   "id": "44071c7a",
   "metadata": {},
   "outputs": [],
   "source": [
    "dgm_net_bnd = DGMNet(hidden_units=60, n_layers=3, input_dim=1,\n",
    "                 lstm_activation_1=\"tanh\", lstm_activation_2=\"tanh\",\n",
    "                 last_activation=\"linear\")\n",
    "\n",
    "dgm_pricer_bnd = EurDGM(model, K,\n",
    "                    maturity=maturity, riskfree=riskfree, dgm_net=dgm_net_bnd,\n",
    "                    S_max=2*K, n_sim_interior=1000, n_sim_terminal=100, n_sim_boundary=100)\n"
   ]
  },
  {
   "cell_type": "code",
   "execution_count": 18,
   "id": "0cc92eb7",
   "metadata": {},
   "outputs": [
    {
     "name": "stdout",
     "output_type": "stream",
     "text": [
      "iteration 000: Loss: 1218.905 L1: 100.958 L2: 151.769 L3: 966.179\n",
      "iteration 001: Loss: 1287.082 L1: 86.183 L2: 37.881 L3: 1163.018\n",
      "iteration 002: Loss: 1256.666 L1: 85.870 L2: 13.612 L3: 1157.184\n",
      "iteration 003: Loss: 1141.607 L1: 92.999 L2: 7.165 L3: 1041.443\n",
      "iteration 004: Loss: 1029.269 L1: 91.850 L2: 3.702 L3: 933.717\n",
      "iteration 005: Loss: 1148.466 L1: 78.399 L2: 6.161 L3: 1063.906\n",
      "iteration 006: Loss: 874.411 L1: 78.855 L2: 3.126 L3: 792.430\n",
      "iteration 007: Loss: 1283.823 L1: 91.529 L2: 2.130 L3: 1190.163\n",
      "iteration 008: Loss: 1588.317 L1: 77.780 L2: 1.324 L3: 1509.213\n",
      "iteration 009: Loss: 985.878 L1: 80.227 L2: 2.901 L3: 902.751\n",
      "iteration 010: Loss: 1051.119 L1: 82.358 L2: 2.115 L3: 966.646\n",
      "iteration 011: Loss: 1199.138 L1: 73.731 L2: 3.036 L3: 1122.371\n",
      "iteration 012: Loss: 987.869 L1: 68.991 L2: 2.588 L3: 916.289\n",
      "iteration 013: Loss: 1205.162 L1: 86.075 L2: 4.488 L3: 1114.599\n",
      "iteration 014: Loss: 488.017 L1: 80.981 L2: 6.142 L3: 400.894\n",
      "iteration 015: Loss: 725.505 L1: 75.060 L2: 5.176 L3: 645.269\n",
      "iteration 016: Loss: 792.617 L1: 82.049 L2: 2.913 L3: 707.655\n",
      "iteration 017: Loss: 740.470 L1: 76.391 L2: 35.504 L3: 628.575\n",
      "iteration 018: Loss: 451.765 L1: 81.593 L2: 49.691 L3: 320.481\n",
      "iteration 019: Loss: 780.982 L1: 79.027 L2: 16.002 L3: 685.953\n",
      "iteration 020: Loss: 768.879 L1: 83.433 L2: 6.547 L3: 678.899\n",
      "iteration 021: Loss: 624.698 L1: 80.076 L2: 3.867 L3: 540.754\n",
      "iteration 022: Loss: 881.251 L1: 83.146 L2: 2.364 L3: 795.741\n",
      "iteration 023: Loss: 677.460 L1: 69.696 L2: 1.407 L3: 606.357\n",
      "iteration 024: Loss: 669.428 L1: 78.868 L2: 2.536 L3: 588.024\n",
      "iteration 025: Loss: 782.711 L1: 77.365 L2: 1.782 L3: 703.564\n",
      "iteration 026: Loss: 700.333 L1: 76.338 L2: 1.501 L3: 622.494\n",
      "iteration 027: Loss: 551.823 L1: 70.463 L2: 0.866 L3: 480.493\n",
      "iteration 028: Loss: 528.778 L1: 70.871 L2: 1.130 L3: 456.777\n",
      "iteration 029: Loss: 754.757 L1: 81.044 L2: 4.739 L3: 668.974\n",
      "iteration 030: Loss: 807.786 L1: 72.017 L2: 2.835 L3: 732.935\n",
      "iteration 031: Loss: 586.632 L1: 77.452 L2: 1.228 L3: 507.952\n",
      "iteration 032: Loss: 638.546 L1: 75.963 L2: 34.995 L3: 527.588\n",
      "iteration 033: Loss: 785.654 L1: 77.061 L2: 17.531 L3: 691.061\n",
      "iteration 034: Loss: 508.406 L1: 77.210 L2: 5.540 L3: 425.656\n",
      "iteration 035: Loss: 813.946 L1: 76.278 L2: 2.811 L3: 734.857\n",
      "iteration 036: Loss: 585.846 L1: 82.473 L2: 1.055 L3: 502.319\n",
      "iteration 037: Loss: 608.166 L1: 76.030 L2: 0.626 L3: 531.511\n",
      "iteration 038: Loss: 596.107 L1: 80.163 L2: 0.753 L3: 515.191\n",
      "iteration 039: Loss: 750.211 L1: 79.481 L2: 0.604 L3: 670.126\n",
      "iteration 040: Loss: 513.813 L1: 79.882 L2: 0.674 L3: 433.258\n",
      "iteration 041: Loss: 575.308 L1: 76.271 L2: 16.401 L3: 482.636\n",
      "iteration 042: Loss: 481.434 L1: 75.910 L2: 10.633 L3: 394.891\n",
      "iteration 043: Loss: 576.092 L1: 82.051 L2: 4.009 L3: 490.033\n",
      "iteration 044: Loss: 462.247 L1: 79.083 L2: 1.433 L3: 381.731\n",
      "iteration 045: Loss: 485.431 L1: 78.987 L2: 0.748 L3: 405.697\n",
      "iteration 046: Loss: 568.577 L1: 77.160 L2: 0.406 L3: 491.010\n",
      "iteration 047: Loss: 434.455 L1: 71.554 L2: 0.897 L3: 362.005\n",
      "iteration 048: Loss: 628.438 L1: 77.468 L2: 57.913 L3: 493.057\n",
      "iteration 049: Loss: 399.620 L1: 81.605 L2: 22.803 L3: 295.212\n",
      "iteration 050: Loss: 381.137 L1: 75.956 L2: 8.944 L3: 296.237\n",
      "iteration 051: Loss: 337.495 L1: 78.203 L2: 5.733 L3: 253.559\n",
      "iteration 052: Loss: 334.528 L1: 78.982 L2: 2.737 L3: 252.809\n",
      "iteration 053: Loss: 383.298 L1: 79.627 L2: 1.511 L3: 302.160\n",
      "iteration 054: Loss: 548.721 L1: 75.578 L2: 0.698 L3: 472.445\n",
      "iteration 055: Loss: 396.485 L1: 74.351 L2: 3.457 L3: 318.677\n",
      "iteration 056: Loss: 354.465 L1: 79.086 L2: 2.089 L3: 273.290\n",
      "iteration 057: Loss: 247.023 L1: 73.663 L2: 1.040 L3: 172.320\n",
      "iteration 058: Loss: 438.674 L1: 79.213 L2: 0.921 L3: 358.541\n",
      "iteration 059: Loss: 299.452 L1: 69.475 L2: 2.703 L3: 227.273\n",
      "iteration 060: Loss: 441.785 L1: 74.388 L2: 33.439 L3: 333.958\n",
      "iteration 061: Loss: 347.636 L1: 70.384 L2: 11.584 L3: 265.668\n",
      "iteration 062: Loss: 416.903 L1: 73.471 L2: 6.776 L3: 336.656\n",
      "iteration 063: Loss: 491.146 L1: 81.869 L2: 2.739 L3: 406.538\n",
      "iteration 064: Loss: 268.999 L1: 75.201 L2: 1.347 L3: 192.451\n",
      "iteration 065: Loss: 351.598 L1: 69.479 L2: 0.741 L3: 281.378\n",
      "iteration 066: Loss: 236.187 L1: 72.445 L2: 1.085 L3: 162.657\n",
      "iteration 067: Loss: 408.403 L1: 75.140 L2: 4.908 L3: 328.355\n",
      "iteration 068: Loss: 229.969 L1: 78.747 L2: 3.027 L3: 148.195\n",
      "iteration 069: Loss: 243.282 L1: 77.172 L2: 0.864 L3: 165.246\n",
      "iteration 070: Loss: 354.316 L1: 67.905 L2: 0.668 L3: 285.743\n",
      "iteration 071: Loss: 412.402 L1: 63.957 L2: 35.185 L3: 313.260\n",
      "iteration 072: Loss: 301.670 L1: 82.427 L2: 17.334 L3: 201.908\n",
      "iteration 073: Loss: 323.015 L1: 77.569 L2: 11.224 L3: 234.222\n",
      "iteration 074: Loss: 304.943 L1: 73.895 L2: 6.538 L3: 224.510\n",
      "iteration 075: Loss: 181.871 L1: 71.334 L2: 2.328 L3: 108.209\n",
      "iteration 076: Loss: 292.262 L1: 66.679 L2: 1.301 L3: 224.282\n",
      "iteration 077: Loss: 366.263 L1: 69.275 L2: 2.445 L3: 294.543\n",
      "iteration 078: Loss: 240.440 L1: 67.518 L2: 1.494 L3: 171.428\n",
      "iteration 079: Loss: 248.194 L1: 65.258 L2: 21.826 L3: 161.111\n",
      "iteration 080: Loss: 352.482 L1: 59.979 L2: 10.338 L3: 282.165\n",
      "iteration 081: Loss: 272.122 L1: 72.848 L2: 5.908 L3: 193.366\n",
      "iteration 082: Loss: 185.303 L1: 63.272 L2: 2.219 L3: 119.812\n",
      "iteration 083: Loss: 268.681 L1: 62.982 L2: 0.943 L3: 204.756\n",
      "iteration 084: Loss: 229.956 L1: 58.962 L2: 0.611 L3: 170.383\n",
      "iteration 085: Loss: 244.448 L1: 69.621 L2: 0.290 L3: 174.536\n",
      "iteration 086: Loss: 259.241 L1: 63.761 L2: 0.223 L3: 195.257\n",
      "iteration 087: Loss: 251.620 L1: 61.762 L2: 17.809 L3: 172.049\n",
      "iteration 088: Loss: 308.773 L1: 63.262 L2: 21.739 L3: 223.772\n",
      "iteration 089: Loss: 205.110 L1: 61.492 L2: 6.633 L3: 136.986\n",
      "iteration 090: Loss: 201.558 L1: 61.150 L2: 3.008 L3: 137.400\n",
      "iteration 091: Loss: 234.268 L1: 64.359 L2: 1.396 L3: 168.513\n",
      "iteration 092: Loss: 142.685 L1: 61.158 L2: 0.816 L3: 80.710\n",
      "iteration 093: Loss: 176.733 L1: 59.679 L2: 1.466 L3: 115.589\n",
      "iteration 094: Loss: 309.758 L1: 56.876 L2: 0.293 L3: 252.589\n",
      "iteration 095: Loss: 190.991 L1: 54.838 L2: 1.409 L3: 134.744\n",
      "iteration 096: Loss: 139.849 L1: 57.623 L2: 1.457 L3: 80.768\n",
      "iteration 097: Loss: 160.113 L1: 54.183 L2: 12.484 L3: 93.446\n",
      "iteration 098: Loss: 170.796 L1: 50.779 L2: 9.700 L3: 110.318\n",
      "iteration 099: Loss: 168.362 L1: 49.168 L2: 2.853 L3: 116.341\n"
     ]
    }
   ],
   "source": [
    "dgm_pricer_bnd.solve(sampling_iter=100, steps_per_sample=10, learning_rate=0.001)"
   ]
  },
  {
   "cell_type": "code",
   "execution_count": 20,
   "id": "69bcf5dd",
   "metadata": {},
   "outputs": [
    {
     "data": {
      "text/plain": [
       "array([[5.7658587]], dtype=float32)"
      ]
     },
     "execution_count": 20,
     "metadata": {},
     "output_type": "execute_result"
    }
   ],
   "source": [
    "# evaluate the model at the initial values\n",
    "S_val = np.array([S0]).reshape(1,-1)\n",
    "t_val = np.array([[dgm_pricer.t_min]])\n",
    "dgm_price = dgm_pricer_bnd.eval(S_val, t_val).numpy()\n",
    "dgm_price"
   ]
  },
  {
   "cell_type": "markdown",
   "id": "ed20e1db",
   "metadata": {},
   "source": [
    "### plotting "
   ]
  },
  {
   "cell_type": "code",
   "execution_count": 21,
   "id": "75c1e42b",
   "metadata": {},
   "outputs": [],
   "source": [
    "n_plot_S = 100\n",
    "t_val = np.linspace(dgm_pricer.t_min, maturity, 10)\n",
    "S_val = np.linspace(dgm_pricer.S_min, 2*K, n_plot_S)\n",
    "\n",
    "V, V_bnd = [], []\n",
    "for t in t_val:\n",
    "    prices = dgm_pricer.eval(S_val.reshape(-1,1), t*np.ones_like(S_val.reshape(-1,1))).numpy()\n",
    "    prices_bnd = dgm_pricer_bnd.eval(S_val.reshape(-1,1), t*np.ones_like(S_val.reshape(-1,1))).numpy()\n",
    "    V.append(prices.ravel())\n",
    "    V_bnd.append(prices_bnd.ravel())\n",
    "V = np.array(V)\n",
    "V_bnd = np.array(V_bnd)"
   ]
  },
  {
   "cell_type": "code",
   "execution_count": 9,
   "id": "0bea2222",
   "metadata": {},
   "outputs": [
    {
     "name": "stderr",
     "output_type": "stream",
     "text": [
      "c:\\users\\pasca\\documents\\awalee\\pricing-python\\pricing_python\\european.py:12: RuntimeWarning: divide by zero encountered in double_scalars\n",
      "  d1 = (np.log(S0 / K) + (riskfree + 1 / 2 * sigma ** 2) * maturity) / sigma / np.sqrt(maturity)\n",
      "c:\\users\\pasca\\documents\\awalee\\pricing-python\\pricing_python\\european.py:13: RuntimeWarning: divide by zero encountered in double_scalars\n",
      "  d2 = (np.log(S0 / K) + (riskfree - 1 / 2 * sigma ** 2) * maturity) / sigma / np.sqrt(maturity)\n"
     ]
    }
   ],
   "source": [
    "# analytical solution\n",
    "V_analytical = []\n",
    "for t in t_val:\n",
    "    V_analytical.append([eur_bs_analytical_price(s, K, riskfree, sigma, maturity-t, call=True) for s in S_val])\n",
    "V_analytical = np.array(V_analytical)"
   ]
  },
  {
   "cell_type": "code",
   "execution_count": 22,
   "id": "5cd7ff5b",
   "metadata": {},
   "outputs": [
    {
     "name": "stdout",
     "output_type": "stream",
     "text": [
      "MAE :  0.2026924695932152\n",
      "MAE with boundary conditions:  0.3691593645143313\n"
     ]
    }
   ],
   "source": [
    "mae = np.mean(np.abs(V-V_analytical))\n",
    "mae_bnd = np.mean(np.abs(V_bnd-V_analytical))\n",
    "print('MAE : ', mae) \n",
    "print('MAE with boundary conditions: ', mae_bnd) "
   ]
  },
  {
   "cell_type": "code",
   "execution_count": 24,
   "id": "8672eb09",
   "metadata": {},
   "outputs": [
    {
     "data": {
      "text/plain": [
       "<Figure size 432x288 with 0 Axes>"
      ]
     },
     "metadata": {},
     "output_type": "display_data"
    },
    {
     "data": {
      "image/png": "[encoded data removed]",
      "text/plain": [
       "<Figure size 720x432 with 1 Axes>"
      ]
     },
     "metadata": {
      "needs_background": "light"
     },
     "output_type": "display_data"
    }
   ],
   "source": [
    "textstr = '\\n'.join((r'Error on {} x {} grid values'.format(len(t_val), len(S_val)),\n",
    "                     r'DGM: MAE  {}'.format(np.round(mae, 5)),\n",
    "                     r'DGM with boundary conditions: MAE  {}'.format(np.round(mae_bnd, 5))))\n",
    "\n",
    "\n",
    "props = dict(boxstyle='round', facecolor='white', alpha=0.5)\n",
    "\n",
    "plt.figure()\n",
    "plt.figure(figsize = (10,6))\n",
    "plt.plot(S_val, V_analytical[0,:], color='black', label='BS Analytical')\n",
    "plt.plot(S_val, V[0,:], label='DGM')\n",
    "plt.plot(S_val, V_bnd[0,:], label='DGM with boundary conditions')\n",
    "\n",
    "plt.text(0.0, 80., textstr, fontsize=14,\n",
    "        verticalalignment='top', bbox=props)\n",
    "plt.legend(prop={\"size\":13})\n",
    "plt.title(\"Call option values at t=0\", fontsize=14)\n",
    "plt.xlabel(\"Underlying price\", fontsize=14)\n",
    "plt.ylabel(\"Option value\", fontsize=14)\n",
    "plt.show()"
   ]
  }
 ],
 "metadata": {
  "kernelspec": {
   "display_name": "Python 3 (ipykernel)",
   "language": "python",
   "name": "python3"
  },
  "language_info": {
   "codemirror_mode": {
    "name": "ipython",
    "version": 3
   },
   "file_extension": ".py",
   "mimetype": "text/x-python",
   "name": "python",
   "nbconvert_exporter": "python",
   "pygments_lexer": "ipython3",
   "version": "3.9.7"
  }
 },
 "nbformat": 4,
 "nbformat_minor": 5
}
